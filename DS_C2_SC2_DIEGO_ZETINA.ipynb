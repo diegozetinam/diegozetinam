{
  "nbformat": 4,
  "nbformat_minor": 0,
  "metadata": {
    "colab": {
      "provenance": [],
      "include_colab_link": true
    },
    "kernelspec": {
      "name": "python3",
      "display_name": "Python 3"
    },
    "language_info": {
      "name": "python"
    }
  },
  "cells": [
    {
      "cell_type": "markdown",
      "metadata": {
        "id": "view-in-github",
        "colab_type": "text"
      },
      "source": [
        "<a href=\"https://colab.research.google.com/github/diegozetinam/diegozetinam/blob/main/DS_C2_SC2_DIEGO_ZETINA.ipynb\" target=\"_parent\"><img src=\"https://colab.research.google.com/assets/colab-badge.svg\" alt=\"Open In Colab\"/></a>"
      ]
    },
    {
      "cell_type": "code",
      "source": [
        "!pip install xlsxwriter"
      ],
      "metadata": {
        "colab": {
          "base_uri": "https://localhost:8080/"
        },
        "id": "JQ2ZmwdI3JUI",
        "outputId": "1180f646-4a48-47e0-ae98-cc306c2ea01e"
      },
      "execution_count": 5,
      "outputs": [
        {
          "output_type": "stream",
          "name": "stdout",
          "text": [
            "Requirement already satisfied: xlsxwriter in /usr/local/lib/python3.10/dist-packages (3.2.0)\n"
          ]
        }
      ]
    },
    {
      "cell_type": "code",
      "execution_count": 9,
      "metadata": {
        "colab": {
          "base_uri": "https://localhost:8080/",
          "height": 73
        },
        "id": "k6qIuJhK3FQ8",
        "outputId": "f2cbc10e-7df9-4866-da63-06cce19e3d9f"
      },
      "outputs": [
        {
          "output_type": "display_data",
          "data": {
            "text/plain": [
              "<IPython.core.display.HTML object>"
            ],
            "text/html": [
              "\n",
              "     <input type=\"file\" id=\"files-6e96f0b7-57bb-420a-a30d-ea190452a246\" name=\"files[]\" multiple disabled\n",
              "        style=\"border:none\" />\n",
              "     <output id=\"result-6e96f0b7-57bb-420a-a30d-ea190452a246\">\n",
              "      Upload widget is only available when the cell has been executed in the\n",
              "      current browser session. Please rerun this cell to enable.\n",
              "      </output>\n",
              "      <script>// Copyright 2017 Google LLC\n",
              "//\n",
              "// Licensed under the Apache License, Version 2.0 (the \"License\");\n",
              "// you may not use this file except in compliance with the License.\n",
              "// You may obtain a copy of the License at\n",
              "//\n",
              "//      http://www.apache.org/licenses/LICENSE-2.0\n",
              "//\n",
              "// Unless required by applicable law or agreed to in writing, software\n",
              "// distributed under the License is distributed on an \"AS IS\" BASIS,\n",
              "// WITHOUT WARRANTIES OR CONDITIONS OF ANY KIND, either express or implied.\n",
              "// See the License for the specific language governing permissions and\n",
              "// limitations under the License.\n",
              "\n",
              "/**\n",
              " * @fileoverview Helpers for google.colab Python module.\n",
              " */\n",
              "(function(scope) {\n",
              "function span(text, styleAttributes = {}) {\n",
              "  const element = document.createElement('span');\n",
              "  element.textContent = text;\n",
              "  for (const key of Object.keys(styleAttributes)) {\n",
              "    element.style[key] = styleAttributes[key];\n",
              "  }\n",
              "  return element;\n",
              "}\n",
              "\n",
              "// Max number of bytes which will be uploaded at a time.\n",
              "const MAX_PAYLOAD_SIZE = 100 * 1024;\n",
              "\n",
              "function _uploadFiles(inputId, outputId) {\n",
              "  const steps = uploadFilesStep(inputId, outputId);\n",
              "  const outputElement = document.getElementById(outputId);\n",
              "  // Cache steps on the outputElement to make it available for the next call\n",
              "  // to uploadFilesContinue from Python.\n",
              "  outputElement.steps = steps;\n",
              "\n",
              "  return _uploadFilesContinue(outputId);\n",
              "}\n",
              "\n",
              "// This is roughly an async generator (not supported in the browser yet),\n",
              "// where there are multiple asynchronous steps and the Python side is going\n",
              "// to poll for completion of each step.\n",
              "// This uses a Promise to block the python side on completion of each step,\n",
              "// then passes the result of the previous step as the input to the next step.\n",
              "function _uploadFilesContinue(outputId) {\n",
              "  const outputElement = document.getElementById(outputId);\n",
              "  const steps = outputElement.steps;\n",
              "\n",
              "  const next = steps.next(outputElement.lastPromiseValue);\n",
              "  return Promise.resolve(next.value.promise).then((value) => {\n",
              "    // Cache the last promise value to make it available to the next\n",
              "    // step of the generator.\n",
              "    outputElement.lastPromiseValue = value;\n",
              "    return next.value.response;\n",
              "  });\n",
              "}\n",
              "\n",
              "/**\n",
              " * Generator function which is called between each async step of the upload\n",
              " * process.\n",
              " * @param {string} inputId Element ID of the input file picker element.\n",
              " * @param {string} outputId Element ID of the output display.\n",
              " * @return {!Iterable<!Object>} Iterable of next steps.\n",
              " */\n",
              "function* uploadFilesStep(inputId, outputId) {\n",
              "  const inputElement = document.getElementById(inputId);\n",
              "  inputElement.disabled = false;\n",
              "\n",
              "  const outputElement = document.getElementById(outputId);\n",
              "  outputElement.innerHTML = '';\n",
              "\n",
              "  const pickedPromise = new Promise((resolve) => {\n",
              "    inputElement.addEventListener('change', (e) => {\n",
              "      resolve(e.target.files);\n",
              "    });\n",
              "  });\n",
              "\n",
              "  const cancel = document.createElement('button');\n",
              "  inputElement.parentElement.appendChild(cancel);\n",
              "  cancel.textContent = 'Cancel upload';\n",
              "  const cancelPromise = new Promise((resolve) => {\n",
              "    cancel.onclick = () => {\n",
              "      resolve(null);\n",
              "    };\n",
              "  });\n",
              "\n",
              "  // Wait for the user to pick the files.\n",
              "  const files = yield {\n",
              "    promise: Promise.race([pickedPromise, cancelPromise]),\n",
              "    response: {\n",
              "      action: 'starting',\n",
              "    }\n",
              "  };\n",
              "\n",
              "  cancel.remove();\n",
              "\n",
              "  // Disable the input element since further picks are not allowed.\n",
              "  inputElement.disabled = true;\n",
              "\n",
              "  if (!files) {\n",
              "    return {\n",
              "      response: {\n",
              "        action: 'complete',\n",
              "      }\n",
              "    };\n",
              "  }\n",
              "\n",
              "  for (const file of files) {\n",
              "    const li = document.createElement('li');\n",
              "    li.append(span(file.name, {fontWeight: 'bold'}));\n",
              "    li.append(span(\n",
              "        `(${file.type || 'n/a'}) - ${file.size} bytes, ` +\n",
              "        `last modified: ${\n",
              "            file.lastModifiedDate ? file.lastModifiedDate.toLocaleDateString() :\n",
              "                                    'n/a'} - `));\n",
              "    const percent = span('0% done');\n",
              "    li.appendChild(percent);\n",
              "\n",
              "    outputElement.appendChild(li);\n",
              "\n",
              "    const fileDataPromise = new Promise((resolve) => {\n",
              "      const reader = new FileReader();\n",
              "      reader.onload = (e) => {\n",
              "        resolve(e.target.result);\n",
              "      };\n",
              "      reader.readAsArrayBuffer(file);\n",
              "    });\n",
              "    // Wait for the data to be ready.\n",
              "    let fileData = yield {\n",
              "      promise: fileDataPromise,\n",
              "      response: {\n",
              "        action: 'continue',\n",
              "      }\n",
              "    };\n",
              "\n",
              "    // Use a chunked sending to avoid message size limits. See b/62115660.\n",
              "    let position = 0;\n",
              "    do {\n",
              "      const length = Math.min(fileData.byteLength - position, MAX_PAYLOAD_SIZE);\n",
              "      const chunk = new Uint8Array(fileData, position, length);\n",
              "      position += length;\n",
              "\n",
              "      const base64 = btoa(String.fromCharCode.apply(null, chunk));\n",
              "      yield {\n",
              "        response: {\n",
              "          action: 'append',\n",
              "          file: file.name,\n",
              "          data: base64,\n",
              "        },\n",
              "      };\n",
              "\n",
              "      let percentDone = fileData.byteLength === 0 ?\n",
              "          100 :\n",
              "          Math.round((position / fileData.byteLength) * 100);\n",
              "      percent.textContent = `${percentDone}% done`;\n",
              "\n",
              "    } while (position < fileData.byteLength);\n",
              "  }\n",
              "\n",
              "  // All done.\n",
              "  yield {\n",
              "    response: {\n",
              "      action: 'complete',\n",
              "    }\n",
              "  };\n",
              "}\n",
              "\n",
              "scope.google = scope.google || {};\n",
              "scope.google.colab = scope.google.colab || {};\n",
              "scope.google.colab._files = {\n",
              "  _uploadFiles,\n",
              "  _uploadFilesContinue,\n",
              "};\n",
              "})(self);\n",
              "</script> "
            ]
          },
          "metadata": {}
        },
        {
          "output_type": "stream",
          "name": "stdout",
          "text": [
            "Saving 0.8ddpr74xw650.udno6l076vcountry_vaccinations.csv to 0.8ddpr74xw650.udno6l076vcountry_vaccinations (1).csv\n"
          ]
        }
      ],
      "source": [
        "from google.colab import files\n",
        "import csv\n",
        "import pandas as pd\n",
        "\n",
        "uploaded = files.upload()"
      ]
    },
    {
      "cell_type": "code",
      "source": [
        "'''a. Extraer la información del archivo.'''\n",
        "# print(uploaded.keys())  # codigo para imprimir contenido\n",
        "\n",
        "archivo_csv = list(uploaded.keys())[0]\n",
        "\n",
        "arreglo = pd.read_csv(archivo_csv)\n",
        "\n",
        "# imprimimos el dataframe para identificar qué operaciones puedes realizar con cada una de ellas\n",
        "print(arreglo.head())"
      ],
      "metadata": {
        "colab": {
          "base_uri": "https://localhost:8080/"
        },
        "id": "bodqvIPJ3Ggi",
        "outputId": "bf73ff55-0be0-465d-a2d6-0790cae9057e"
      },
      "execution_count": 10,
      "outputs": [
        {
          "output_type": "stream",
          "name": "stdout",
          "text": [
            "       country iso_code        date  total_vaccinations  people_vaccinated  \\\n",
            "0  Afghanistan      AFG  2021-02-22                 0.0                0.0   \n",
            "1  Afghanistan      AFG  2021-02-23                 NaN                NaN   \n",
            "2  Afghanistan      AFG  2021-02-24                 NaN                NaN   \n",
            "3  Afghanistan      AFG  2021-02-25                 NaN                NaN   \n",
            "4  Afghanistan      AFG  2021-02-26                 NaN                NaN   \n",
            "\n",
            "   people_fully_vaccinated  daily_vaccinations_raw  daily_vaccinations  \\\n",
            "0                      NaN                     NaN                 NaN   \n",
            "1                      NaN                     NaN              1367.0   \n",
            "2                      NaN                     NaN              1367.0   \n",
            "3                      NaN                     NaN              1367.0   \n",
            "4                      NaN                     NaN              1367.0   \n",
            "\n",
            "   total_vaccinations_per_hundred  people_vaccinated_per_hundred  \\\n",
            "0                             0.0                            0.0   \n",
            "1                             NaN                            NaN   \n",
            "2                             NaN                            NaN   \n",
            "3                             NaN                            NaN   \n",
            "4                             NaN                            NaN   \n",
            "\n",
            "   people_fully_vaccinated_per_hundred  daily_vaccinations_per_million  \\\n",
            "0                                  NaN                             NaN   \n",
            "1                                  NaN                            34.0   \n",
            "2                                  NaN                            34.0   \n",
            "3                                  NaN                            34.0   \n",
            "4                                  NaN                            34.0   \n",
            "\n",
            "                                            vaccines  \\\n",
            "0  Johnson&Johnson, Oxford/AstraZeneca, Pfizer/Bi...   \n",
            "1  Johnson&Johnson, Oxford/AstraZeneca, Pfizer/Bi...   \n",
            "2  Johnson&Johnson, Oxford/AstraZeneca, Pfizer/Bi...   \n",
            "3  Johnson&Johnson, Oxford/AstraZeneca, Pfizer/Bi...   \n",
            "4  Johnson&Johnson, Oxford/AstraZeneca, Pfizer/Bi...   \n",
            "\n",
            "                 source_name            source_website  \n",
            "0  World Health Organization  https://covid19.who.int/  \n",
            "1  World Health Organization  https://covid19.who.int/  \n",
            "2  World Health Organization  https://covid19.who.int/  \n",
            "3  World Health Organization  https://covid19.who.int/  \n",
            "4  World Health Organization  https://covid19.who.int/  \n"
          ]
        }
      ]
    },
    {
      "cell_type": "code",
      "source": [
        "'''b. Mostrar la estructura y tipos de datos de cada columna para identificar qué operaciones puedes realizar con '''\n",
        "\n",
        "\n",
        "'''Mostrar la estructura y tipos de datos'''\n",
        "print(\"\\nEstructura del DataFrame:\")\n",
        "print(arreglo.info())\n",
        "print(\"\\n\")\n",
        "\n",
        "'''convertir lineas al tipo datetime64 (asi nos aseguramos de que tenga este formato)'''\n",
        "if 'fecha' in arreglo.columns:  # Cambia 'fecha' por el nombre real de la columna con fechas\n",
        "    arreglo['fecha'] = arreglo.to_datetime(arreglo['fecha'], errors='coerce')"
      ],
      "metadata": {
        "colab": {
          "base_uri": "https://localhost:8080/"
        },
        "id": "bjvw0ifc3Gd6",
        "outputId": "380337a6-9e6f-4ffb-a73c-45e890553a57"
      },
      "execution_count": 11,
      "outputs": [
        {
          "output_type": "stream",
          "name": "stdout",
          "text": [
            "\n",
            "Estructura del DataFrame:\n",
            "<class 'pandas.core.frame.DataFrame'>\n",
            "RangeIndex: 86512 entries, 0 to 86511\n",
            "Data columns (total 15 columns):\n",
            " #   Column                               Non-Null Count  Dtype  \n",
            "---  ------                               --------------  -----  \n",
            " 0   country                              86512 non-null  object \n",
            " 1   iso_code                             86512 non-null  object \n",
            " 2   date                                 86512 non-null  object \n",
            " 3   total_vaccinations                   43607 non-null  float64\n",
            " 4   people_vaccinated                    41294 non-null  float64\n",
            " 5   people_fully_vaccinated              38802 non-null  float64\n",
            " 6   daily_vaccinations_raw               35362 non-null  float64\n",
            " 7   daily_vaccinations                   86213 non-null  float64\n",
            " 8   total_vaccinations_per_hundred       43607 non-null  float64\n",
            " 9   people_vaccinated_per_hundred        41294 non-null  float64\n",
            " 10  people_fully_vaccinated_per_hundred  38802 non-null  float64\n",
            " 11  daily_vaccinations_per_million       86213 non-null  float64\n",
            " 12  vaccines                             86512 non-null  object \n",
            " 13  source_name                          86512 non-null  object \n",
            " 14  source_website                       86512 non-null  object \n",
            "dtypes: float64(9), object(6)\n",
            "memory usage: 9.9+ MB\n",
            "None\n",
            "\n",
            "\n"
          ]
        }
      ]
    },
    {
      "cell_type": "code",
      "source": [
        "'''c. Determinar la cantidad de vacunas aplicadas de cada compañía '''\n",
        "\n",
        "\n",
        "pd.set_option('display.max_rows', None) # panda solo muestra 60 filas , con este codigo quitamos ese limite\n",
        "\n",
        "\n",
        "# ordenamos las filas para que cada vacuna esté en su propia fil\n",
        "arreglo['vaccines'] = arreglo['vaccines'].str.split(',') # metodopara dividir cada valor de la columna 'vaccines' en lista\n",
        "arreglo_expanded = arreglo.explode('vaccines')# multiplicar filas por cada vacuna.\n",
        "arreglo_expanded['vaccines'] = arreglo_expanded['vaccines'].str.strip() #evita errores con los espacios en blanco\n",
        "\n",
        "#para agrupar por vacuna y no se repitan en otra fila\n",
        "vacunas_por_compania = arreglo_expanded.groupby('vaccines')['total_vaccinations'].sum()\n",
        "\n",
        "# para ordena alfabeticamente\n",
        "vacunas_por_compania = vacunas_por_compania.sort_index(ascending=True)\n",
        "vacunas_por_companias_entero = vacunas_por_compania.astype(int)\n",
        "\n",
        "# Mostrar el resultado\n",
        "print(vacunas_por_companias_entero)"
      ],
      "metadata": {
        "colab": {
          "base_uri": "https://localhost:8080/"
        },
        "id": "mkFIsC7-3GbS",
        "outputId": "c4f1a407-3de1-4d00-8c1e-0a8a980fea99"
      },
      "execution_count": 12,
      "outputs": [
        {
          "output_type": "stream",
          "name": "stdout",
          "text": [
            "vaccines\n",
            "Abdala                  24920956419\n",
            "COVIran Barekat         10694796486\n",
            "CanSino                803579688743\n",
            "Covaxin                351975295619\n",
            "EpiVacCorona            28399776405\n",
            "FAKHRAVAC               10694796486\n",
            "Johnson&Johnson        584664753161\n",
            "Medigen                  5591280901\n",
            "Moderna                699246982558\n",
            "Novavax                144353112428\n",
            "Oxford/AstraZeneca    1037662957161\n",
            "Pfizer/BioNTech        905599547886\n",
            "QazVac                   3600642628\n",
            "Razi Cov Pars           10694796486\n",
            "Sinopharm/Beijing      946012065121\n",
            "Sinopharm/Wuhan        714921701786\n",
            "Sinovac               1035083863563\n",
            "Soberana Plus            6405165573\n",
            "Soberana02              17701253753\n",
            "SpikoGen                10694796486\n",
            "Sputnik Light           13450291156\n",
            "Sputnik V              499130713958\n",
            "Turkovac                33923100933\n",
            "ZF2001                 712264589919\n",
            "Name: total_vaccinations, dtype: int64\n"
          ]
        }
      ]
    },
    {
      "cell_type": "code",
      "source": [
        "'''d. Obtener la cantidad de vacunas aplicadas en todo el mundo. '''\n",
        "\n",
        "# metodo para sumar por cada dato en total vaccinations\n",
        "vacunas_mundo = arreglo['total_vaccinations'].sum()\n",
        "\n",
        "# Mostrar el resultado\n",
        "print(f\"Total de vacunas aplicadas en todo el mundo: {vacunas_mundo}\")"
      ],
      "metadata": {
        "colab": {
          "base_uri": "https://localhost:8080/"
        },
        "id": "EtYxgi403GY6",
        "outputId": "99f3ff5b-8651-4649-8b94-0c11f62441ed"
      },
      "execution_count": 13,
      "outputs": [
        {
          "output_type": "stream",
          "name": "stdout",
          "text": [
            "Total de vacunas aplicadas en todo el mundo: 2002854013761.0\n"
          ]
        }
      ]
    },
    {
      "cell_type": "code",
      "source": [
        "''' e. Calcular el promedio de vacunas aplicadas por país. '''\n",
        "\n",
        "# Creamos un grupo por país y sumamos el total de vacunas aplicadas por cada país\n",
        "total_vacunas_por_pais = arreglo.groupby('country')['total_vaccinations'].sum()\n",
        "\n",
        "# Convertimos el resultado en enteros\n",
        "total_vacunas_por_pais_entero = total_vacunas_por_pais.astype(int)\n",
        "\n",
        "# print resultado\n",
        "print(total_vacunas_por_pais_entero)"
      ],
      "metadata": {
        "colab": {
          "base_uri": "https://localhost:8080/"
        },
        "id": "5ZV8nRCY3GWK",
        "outputId": "858c805c-5b36-44b1-f1aa-ed0a9a1ad94f",
        "collapsed": true
      },
      "execution_count": 14,
      "outputs": [
        {
          "output_type": "stream",
          "name": "stdout",
          "text": [
            "country\n",
            "Afghanistan                            118041426\n",
            "Albania                                295540465\n",
            "Algeria                                238946062\n",
            "Andorra                                  2447643\n",
            "Angola                                 388740243\n",
            "Anguilla                                  806657\n",
            "Antigua and Barbuda                      6840405\n",
            "Argentina                            18678951288\n",
            "Armenia                                 34983105\n",
            "Aruba                                   38528732\n",
            "Australia                             9733094247\n",
            "Austria                                596758436\n",
            "Azerbaijan                            2364582887\n",
            "Bahamas                                  8527171\n",
            "Bahrain                                778833949\n",
            "Bangladesh                           13205078414\n",
            "Barbados                                76587881\n",
            "Belarus                                198340415\n",
            "Belgium                               5762415299\n",
            "Belize                                  21555588\n",
            "Benin                                   24937864\n",
            "Bermuda                                  4511282\n",
            "Bhutan                                  77837458\n",
            "Bolivia                               2228459475\n",
            "Bonaire Sint Eustatius and Saba            43236\n",
            "Bosnia and Herzegovina                  13550064\n",
            "Botswana                                25047730\n",
            "Brazil                               79067174395\n",
            "British Virgin Islands                   1109320\n",
            "Brunei                                  61927129\n",
            "Bulgaria                               922195972\n",
            "Burkina Faso                            18752087\n",
            "Burundi                                   129486\n",
            "Cambodia                              6972078336\n",
            "Cameroon                                25256245\n",
            "Canada                               18228269647\n",
            "Cape Verde                              17810279\n",
            "Cayman Islands                           8639957\n",
            "Central African Republic                10566686\n",
            "Chad                                     7169222\n",
            "Chile                                11769621615\n",
            "China                               709452663700\n",
            "Colombia                             10384422784\n",
            "Comoros                                 10226002\n",
            "Congo                                   11103412\n",
            "Cook Islands                              457151\n",
            "Costa Rica                             265394163\n",
            "Cote d'Ivoire                          325419927\n",
            "Croatia                               1138056630\n",
            "Cuba                                  6405165573\n",
            "Curacao                                 51902234\n",
            "Cyprus                                 165253700\n",
            "Czechia                               4168648944\n",
            "Democratic Republic of Congo            11499024\n",
            "Denmark                               3032077468\n",
            "Djibouti                                 1825263\n",
            "Dominica                                 3454276\n",
            "Dominican Republic                    3559094012\n",
            "Ecuador                               6187581735\n",
            "Egypt                                 1780807471\n",
            "El Salvador                            862583748\n",
            "England                              31037114023\n",
            "Equatorial Guinea                       23507999\n",
            "Estonia                                487453125\n",
            "Eswatini                                14411103\n",
            "Ethiopia                              1645964643\n",
            "Faeroe Islands                           8612023\n",
            "Falkland Islands                           14163\n",
            "Fiji                                    41785670\n",
            "Finland                                870145578\n",
            "France                               32177039372\n",
            "French Polynesia                        10745478\n",
            "Gabon                                    6915494\n",
            "Gambia                                   6484672\n",
            "Georgia                                374537207\n",
            "Germany                              38982830332\n",
            "Ghana                                   95856469\n",
            "Gibraltar                               17848912\n",
            "Greece                                4449067007\n",
            "Greenland                                6166081\n",
            "Grenada                                  3055000\n",
            "Guatemala                             1954565774\n",
            "Guernsey                                 9211190\n",
            "Guinea                                 251098019\n",
            "Guinea-Bissau                           13232962\n",
            "Guyana                                  58297983\n",
            "Haiti                                    4984467\n",
            "Honduras                               247616846\n",
            "Hong Kong                             2676384608\n",
            "Hungary                                776460890\n",
            "Iceland                                 51942584\n",
            "India                               323440305798\n",
            "Indonesia                            45214622016\n",
            "Iran                                 10694796486\n",
            "Iraq                                   500007948\n",
            "Ireland                               2468578495\n",
            "Isle of Man                             28099653\n",
            "Israel                                5743375433\n",
            "Italy                                29713054032\n",
            "Jamaica                                185315300\n",
            "Japan                                30302126928\n",
            "Jersey                                  13560674\n",
            "Jordan                                1184104194\n",
            "Kazakhstan                            3585428930\n",
            "Kenya                                 1550029163\n",
            "Kiribati                                 1017407\n",
            "Kosovo                                 312915688\n",
            "Kuwait                                 198964320\n",
            "Kyrgyzstan                             446783893\n",
            "Laos                                   304325044\n",
            "Latvia                                 623488904\n",
            "Lebanon                                979310269\n",
            "Lesotho                                  6163451\n",
            "Liberia                                  6636702\n",
            "Libya                                  203838898\n",
            "Liechtenstein                           16368068\n",
            "Lithuania                             1114103234\n",
            "Luxembourg                             263977751\n",
            "Macao                                  150758003\n",
            "Madagascar                              13409440\n",
            "Malawi                                 266138742\n",
            "Malaysia                             13297513692\n",
            "Maldives                               185031910\n",
            "Mali                                    29264946\n",
            "Malta                                  297379346\n",
            "Mauritania                              69654195\n",
            "Mauritius                               47037337\n",
            "Mexico                               28515470375\n",
            "Moldova                                314178746\n",
            "Monaco                                    867304\n",
            "Mongolia                              1091192283\n",
            "Montenegro                             139401891\n",
            "Montserrat                                 95908\n",
            "Morocco                               4852617579\n",
            "Mozambique                             411953045\n",
            "Myanmar                               1063018789\n",
            "Namibia                                 27031086\n",
            "Nauru                                     119130\n",
            "Nepal                                 2460335069\n",
            "Netherlands                           1116703932\n",
            "New Caledonia                           11619229\n",
            "New Zealand                           1834291254\n",
            "Nicaragua                              178434850\n",
            "Niger                                   20285215\n",
            "Nigeria                                733673302\n",
            "Niue                                       11055\n",
            "North Macedonia                        128128280\n",
            "Northern Cyprus                          6088758\n",
            "Northern Ireland                       953157405\n",
            "Norway                                2560999408\n",
            "Oman                                   139430382\n",
            "Pakistan                             15677886338\n",
            "Palestine                              193711195\n",
            "Panama                                 251726034\n",
            "Papua New Guinea                         9997902\n",
            "Paraguay                               423464599\n",
            "Peru                                 10520125027\n",
            "Philippines                           8736435778\n",
            "Pitcairn                                     348\n",
            "Poland                               11131817028\n",
            "Portugal                              3794914767\n",
            "Qatar                                 1358902402\n",
            "Romania                               4238875187\n",
            "Russia                               28384562707\n",
            "Rwanda                                 204740103\n",
            "Saint Helena                               24233\n",
            "Saint Kitts and Nevis                    2999002\n",
            "Saint Lucia                             12874687\n",
            "Saint Vincent and the Grenadines         4348566\n",
            "Samoa                                    5115019\n",
            "San Marino                               3863380\n",
            "Sao Tome and Principe                    2690169\n",
            "Saudi Arabia                         11456838033\n",
            "Scotland                              2995364072\n",
            "Senegal                                 62562518\n",
            "Serbia                                1093215957\n",
            "Seychelles                               8319724\n",
            "Sierra Leone                            16243279\n",
            "Singapore                             3164195328\n",
            "Sint Maarten (Dutch part)                2096270\n",
            "Slovakia                               254729712\n",
            "Slovenia                               736766851\n",
            "Solomon Islands                          4853407\n",
            "Somalia                                 32208616\n",
            "South Africa                          4133433811\n",
            "South Korea                          21831406035\n",
            "South Sudan                              6021857\n",
            "Spain                                13863240572\n",
            "Sri Lanka                             6644313808\n",
            "Sudan                                   46008871\n",
            "Suriname                                69986069\n",
            "Sweden                                 741237578\n",
            "Switzerland                           3695330150\n",
            "Syria                                   38980975\n",
            "Taiwan                                5591280901\n",
            "Tajikistan                             171225805\n",
            "Tanzania                                26064182\n",
            "Thailand                             20018354320\n",
            "Timor                                   31418464\n",
            "Togo                                    40463126\n",
            "Tokelau                                     3857\n",
            "Tonga                                    1974092\n",
            "Trinidad and Tobago                    316754503\n",
            "Tunisia                               2041177133\n",
            "Turkey                               33923100933\n",
            "Turkmenistan                            15213698\n",
            "Turks and Caicos Islands                 1016487\n",
            "Tuvalu                                     51528\n",
            "Uganda                                 226304447\n",
            "Ukraine                               4357666978\n",
            "United Arab Emirates                  5469038086\n",
            "United Kingdom                       36851641768\n",
            "United States                       155013867208\n",
            "Uruguay                               1979930902\n",
            "Uzbekistan                            2796712521\n",
            "Vanuatu                                  2225477\n",
            "Venezuela                              422856844\n",
            "Vietnam                              17914499152\n",
            "Wales                                 1810193186\n",
            "Wallis and Futuna                         365717\n",
            "Yemen                                   10546907\n",
            "Zambia                                 202357387\n",
            "Zimbabwe                              1589014934\n",
            "Name: total_vaccinations, dtype: int64\n"
          ]
        }
      ]
    },
    {
      "cell_type": "code",
      "source": [
        "'''f. Determinar la cantidad de vacunas aplicadas el día 29/01/21 en todo el mundo.'''\n",
        "arreglo['date'] = pd.to_datetime(arreglo['date'])\n",
        "\n",
        "# Filtro para el día 29/01/21\n",
        "arreglo_29_01_21 = arreglo[arreglo['date'] == '2021-01-29']\n",
        "\n",
        "# Sumar vacunas\n",
        "vacunas_29_01_21 = arreglo_29_01_21['total_vaccinations'].sum()\n",
        "\n",
        "# print el resultado\n",
        "print(f\"Total de vacunas aplicadas el 29/01/21: {vacunas_29_01_21}\")"
      ],
      "metadata": {
        "colab": {
          "base_uri": "https://localhost:8080/"
        },
        "id": "r70Dh3jD3GTe",
        "outputId": "e74982c9-d7a8-4e98-ef53-462a64ea409a"
      },
      "execution_count": 15,
      "outputs": [
        {
          "output_type": "stream",
          "name": "stdout",
          "text": [
            "Total de vacunas aplicadas el 29/01/21: 82952931.0\n"
          ]
        }
      ]
    },
    {
      "cell_type": "code",
      "source": [
        "'''g. Crear un dataframe nuevo denominado conDiferencias que contenga los datos originales y una columna derivada (diferencias)\n",
        "  con las diferencias de aplicación entre las columnas daily_vaccionations y daily_vaccionations_raw.'''\n",
        "\n",
        "# sacamos total entre 'daily_vaccinations' (columna H) y 'daily_vaccinations_raw' (columna G)\n",
        "arreglo['diferencias'] = arreglo['daily_vaccinations'] - arreglo['daily_vaccinations_raw']\n",
        "\n",
        "# Nueno DataFrame con las columnas originales y la nueva columna 'diferencias'\n",
        "conDiferencias = arreglo.copy()\n",
        "\n",
        "# primeros registros del DataFrame con la nueva columna\n",
        "print(conDiferencias[['country', 'daily_vaccinations', 'daily_vaccinations_raw', 'diferencias']].head())\n",
        "\n",
        "# inicialmente no use head pero imprimia todos los datos y se saturaba la memoria\n",
        "#print(conDiferencias[['country', 'daily_vaccinations', 'daily_vaccinations_raw', 'diferencias']])"
      ],
      "metadata": {
        "colab": {
          "base_uri": "https://localhost:8080/"
        },
        "id": "iCmVsC9j3GQK",
        "outputId": "0c021c16-d32f-4ac6-f643-7c23e08db79c"
      },
      "execution_count": 16,
      "outputs": [
        {
          "output_type": "stream",
          "name": "stdout",
          "text": [
            "       country  daily_vaccinations  daily_vaccinations_raw  diferencias\n",
            "0  Afghanistan                 NaN                     NaN          NaN\n",
            "1  Afghanistan              1367.0                     NaN          NaN\n",
            "2  Afghanistan              1367.0                     NaN          NaN\n",
            "3  Afghanistan              1367.0                     NaN          NaN\n",
            "4  Afghanistan              1367.0                     NaN          NaN\n"
          ]
        }
      ]
    },
    {
      "cell_type": "code",
      "source": [
        "'''h. Obtener el periodo de tiempo entre el registro con fecha más reciente y el registro con fecha más antigua. '''\n",
        "\n",
        "# debe estar  'date' en formato datetime\n",
        "arreglo['date'] = pd.to_datetime(arreglo['date'])\n",
        "\n",
        "# sacar la fecha más antigua (mínima) y la fecha más reciente (máxima)\n",
        "fecha_mas_antigua = arreglo['date'].min()\n",
        "fecha_mas_reciente = arreglo['date'].max()\n",
        "\n",
        "#  diferencia entre las fechas\n",
        "periodo_tiempo = fecha_mas_reciente - fecha_mas_antigua\n",
        "\n",
        "\n",
        "# print los resultados\n",
        "print(f\"Fecha más antigua: {fecha_mas_antigua.date()}\")\n",
        "print(f\"Fecha más reciente: {fecha_mas_reciente.date()}\")\n",
        "print(f\"Periodo de tiempo: {periodo_tiempo.days} días\")"
      ],
      "metadata": {
        "colab": {
          "base_uri": "https://localhost:8080/"
        },
        "id": "eaWG71U83bvZ",
        "outputId": "49d43b20-43b5-4312-ae19-6ab0489d51cd"
      },
      "execution_count": 17,
      "outputs": [
        {
          "output_type": "stream",
          "name": "stdout",
          "text": [
            "Fecha más antigua: 2020-12-02\n",
            "Fecha más reciente: 2022-03-29\n",
            "Periodo de tiempo: 482 días\n"
          ]
        }
      ]
    },
    {
      "cell_type": "code",
      "source": [
        "'''i. Crear un dataframe nuevo denominado conCantidad que contenga los datos originales y una columna derivada (canVac)\n",
        "con la cantidad de vacunas utilizadas cada día (usar la columna vaccines y separar por el carácter , ).'''\n",
        "\n",
        "\n",
        "#nueva columna\n",
        "arreglo['canVac'] = arreglo['vaccines']\n",
        "\n",
        "# nuevo dataframe 'conCantidad'\n",
        "conCantidad = arreglo.copy()\n",
        "\n",
        "# impresion del arreglo\n",
        "print(conCantidad[['country', 'canVac']].head())\n",
        "# print(conCantidad[['country', 'canVac']])"
      ],
      "metadata": {
        "colab": {
          "base_uri": "https://localhost:8080/"
        },
        "id": "dQCQJWn93bpp",
        "outputId": "570a22ed-ccd5-49bf-8c74-278d0b42b45a"
      },
      "execution_count": 18,
      "outputs": [
        {
          "output_type": "stream",
          "name": "stdout",
          "text": [
            "       country                                             canVac\n",
            "0  Afghanistan  [Johnson&Johnson,  Oxford/AstraZeneca,  Pfizer...\n",
            "1  Afghanistan  [Johnson&Johnson,  Oxford/AstraZeneca,  Pfizer...\n",
            "2  Afghanistan  [Johnson&Johnson,  Oxford/AstraZeneca,  Pfizer...\n",
            "3  Afghanistan  [Johnson&Johnson,  Oxford/AstraZeneca,  Pfizer...\n",
            "4  Afghanistan  [Johnson&Johnson,  Oxford/AstraZeneca,  Pfizer...\n"
          ]
        }
      ]
    },
    {
      "cell_type": "code",
      "source": [
        "'''j. Generar un dataframe denominado antes20 con todos los registros que se hayan realizado antes del 20 de diciembre de 2020. '''\n",
        "# nos aseguramos que los datos sean una fecha con formato\n",
        "arreglo['date'] = pd.to_datetime(arreglo['date'])\n",
        "\n",
        "# Uso de filtro\n",
        "menordel20 = pd.to_datetime('2020-12-20')\n",
        "\n",
        "#verificar que sea menor que la fecha dada\n",
        "antes20 = arreglo[arreglo['date'] < menordel20]\n",
        "\n",
        "# Mostrar resultado con todas las columnas\n",
        "# print(antes20.head())\n",
        "\n",
        "# para mostrar algo mas entendible un emplo puede ser algo asi...\n",
        "print(antes20[['country', 'date', 'total_vaccinations',\n",
        "               'daily_vaccinations_raw', 'daily_vaccinations',\n",
        "               'vaccines']].head())"
      ],
      "metadata": {
        "colab": {
          "base_uri": "https://localhost:8080/"
        },
        "id": "vrhWo2gh3biC",
        "outputId": "9abdcf3e-1c19-4e91-eba5-8099e21b3ae4"
      },
      "execution_count": 19,
      "outputs": [
        {
          "output_type": "stream",
          "name": "stdout",
          "text": [
            "      country       date  total_vaccinations  daily_vaccinations_raw  \\\n",
            "13403  Canada 2020-12-14                 5.0                     NaN   \n",
            "13404  Canada 2020-12-15               727.0                   722.0   \n",
            "13405  Canada 2020-12-16              3025.0                  2298.0   \n",
            "13406  Canada 2020-12-17              7279.0                  4254.0   \n",
            "13407  Canada 2020-12-18             11296.0                  4017.0   \n",
            "\n",
            "       daily_vaccinations                                           vaccines  \n",
            "13403                 NaN  [Johnson&Johnson,  Moderna,  Oxford/AstraZenec...  \n",
            "13404               722.0  [Johnson&Johnson,  Moderna,  Oxford/AstraZenec...  \n",
            "13405              1510.0  [Johnson&Johnson,  Moderna,  Oxford/AstraZenec...  \n",
            "13406              2425.0  [Johnson&Johnson,  Moderna,  Oxford/AstraZenec...  \n",
            "13407              2823.0  [Johnson&Johnson,  Moderna,  Oxford/AstraZenec...  \n"
          ]
        }
      ]
    },
    {
      "cell_type": "code",
      "source": [
        "'''k. Obtener un dataframe denominado pfizer con todos los registros donde se haya utilizado la vacuna Pfizer.'''\n",
        "\n",
        "#metodo de para para buscar \"Pfizer en vaccines\"\n",
        "# como ya usamos .split(',') esto nos puede dar error en nuestra busqueda\n",
        "# por lo que convertimos a string los datos en vaccines\n",
        "arreglo['vaccines'] = arreglo['vaccines'].astype(str)\n",
        "\n",
        "# Buscar la palabra 'Pfizer' en la columna 'vaccines'\n",
        "pfizer_arreglo = arreglo[arreglo['vaccines'].str.contains('Pfizer')]\n",
        "\n",
        "\n",
        "# para imrimir un emplo seria\n",
        "print(pfizer_arreglo[['country', 'date', 'vaccines']].head())"
      ],
      "metadata": {
        "colab": {
          "base_uri": "https://localhost:8080/"
        },
        "id": "CqS9-K2H3gXh",
        "outputId": "c5526ed5-02be-4b99-e3a3-f3a12334e1c8"
      },
      "execution_count": 20,
      "outputs": [
        {
          "output_type": "stream",
          "name": "stdout",
          "text": [
            "       country       date                                           vaccines\n",
            "0  Afghanistan 2021-02-22  ['Johnson&Johnson', ' Oxford/AstraZeneca', ' P...\n",
            "1  Afghanistan 2021-02-23  ['Johnson&Johnson', ' Oxford/AstraZeneca', ' P...\n",
            "2  Afghanistan 2021-02-24  ['Johnson&Johnson', ' Oxford/AstraZeneca', ' P...\n",
            "3  Afghanistan 2021-02-25  ['Johnson&Johnson', ' Oxford/AstraZeneca', ' P...\n",
            "4  Afghanistan 2021-02-26  ['Johnson&Johnson', ' Oxford/AstraZeneca', ' P...\n"
          ]
        }
      ]
    },
    {
      "cell_type": "code",
      "source": [
        "archivo_salida = \"resultadosReto.xlsx\"\n",
        "\n",
        "# Usamos ExcelWriter para crear el archivo y escribir múltiples hojas\n",
        "with pd.ExcelWriter(archivo_salida, engine='xlsxwriter') as writer:\n",
        "    # Guardar cada DataFrame en una hoja separada\n",
        "    conDiferencias.to_excel(writer, sheet_name='conDiferencias')\n",
        "    conCantidad.to_excel(writer, sheet_name='conCantidad')\n",
        "    antes20.to_excel(writer, sheet_name='antes20')\n",
        "    pfizer_arreglo.to_excel(writer, sheet_name='pfizer')\n",
        "\n",
        "from google.colab import files\n",
        "files.download('resultadosReto.xlsx')\n",
        "\n",
        "print(f\"Archivo creado\")"
      ],
      "metadata": {
        "colab": {
          "base_uri": "https://localhost:8080/"
        },
        "id": "xykVJTtN3gT9",
        "outputId": "cc188ce5-03c8-4c1f-802d-d77e8d0bcb68"
      },
      "execution_count": 21,
      "outputs": [
        {
          "output_type": "stream",
          "name": "stderr",
          "text": [
            "/usr/local/lib/python3.10/dist-packages/xlsxwriter/worksheet.py:1261: UserWarning: Ignoring URL 'https://ais.paho.org/imm/IM_DosisAdmin-Vacunacion.asp' since it exceeds Excel's limit of 65,530 URLS per worksheet.\n",
            "  warn(\n",
            "/usr/local/lib/python3.10/dist-packages/xlsxwriter/worksheet.py:1261: UserWarning: Ignoring URL 'https://web.facebook.com/SVGHEALTH/posts/437021804887233' since it exceeds Excel's limit of 65,530 URLS per worksheet.\n",
            "  warn(\n",
            "/usr/local/lib/python3.10/dist-packages/xlsxwriter/worksheet.py:1261: UserWarning: Ignoring URL 'https://stats.pacificdata.org/vis?tm=covid&pg=0&df%5bds%5d=SPC2&df%5bid%5d=DF_COVID_VACCINATION&df%5bag%5d=SPC&df%5bvs%5d=1.0' since it exceeds Excel's limit of 65,530 URLS per worksheet.\n",
            "  warn(\n",
            "/usr/local/lib/python3.10/dist-packages/xlsxwriter/worksheet.py:1261: UserWarning: Ignoring URL 'https://covid19.who.int/' since it exceeds Excel's limit of 65,530 URLS per worksheet.\n",
            "  warn(\n",
            "/usr/local/lib/python3.10/dist-packages/xlsxwriter/worksheet.py:1261: UserWarning: Ignoring URL 'https://africacdc.org/covid-19-vaccination/' since it exceeds Excel's limit of 65,530 URLS per worksheet.\n",
            "  warn(\n",
            "/usr/local/lib/python3.10/dist-packages/xlsxwriter/worksheet.py:1261: UserWarning: Ignoring URL 'https://coronavirus.data.gov.uk/details/vaccinations' since it exceeds Excel's limit of 65,530 URLS per worksheet.\n",
            "  warn(\n",
            "/usr/local/lib/python3.10/dist-packages/xlsxwriter/worksheet.py:1261: UserWarning: Ignoring URL 'https://vakcinacija.gov.rs/' since it exceeds Excel's limit of 65,530 URLS per worksheet.\n",
            "  warn(\n",
            "/usr/local/lib/python3.10/dist-packages/xlsxwriter/worksheet.py:1261: UserWarning: Ignoring URL 'https://data.gov.sg/dataset/covid-19-vaccination' since it exceeds Excel's limit of 65,530 URLS per worksheet.\n",
            "  warn(\n",
            "/usr/local/lib/python3.10/dist-packages/xlsxwriter/worksheet.py:1261: UserWarning: Ignoring URL 'https://github.com/Institut-Zdravotnych-Analyz/covid19-data/raw/main/Vaccination/OpenData_Slovakia_Vaccination_AgeGroup_District.csv' since it exceeds Excel's limit of 65,530 URLS per worksheet.\n",
            "  warn(\n",
            "/usr/local/lib/python3.10/dist-packages/xlsxwriter/worksheet.py:1261: UserWarning: Ignoring URL 'https://covid-19.sledilnik.org/sl/stats' since it exceeds Excel's limit of 65,530 URLS per worksheet.\n",
            "  warn(\n",
            "/usr/local/lib/python3.10/dist-packages/xlsxwriter/worksheet.py:1261: UserWarning: Ignoring URL 'https://sacoronavirus.co.za/latest-vaccine-statistics/' since it exceeds Excel's limit of 65,530 URLS per worksheet.\n",
            "  warn(\n",
            "/usr/local/lib/python3.10/dist-packages/xlsxwriter/worksheet.py:1261: UserWarning: Ignoring URL 'https://ncv.kdca.go.kr/' since it exceeds Excel's limit of 65,530 URLS per worksheet.\n",
            "  warn(\n",
            "/usr/local/lib/python3.10/dist-packages/xlsxwriter/worksheet.py:1261: UserWarning: Ignoring URL 'https://www.mscbs.gob.es/profesionales/saludPublica/ccayes/alertasActual/nCov/documentos/Informe_Comunicacion_20220325.ods' since it exceeds Excel's limit of 65,530 URLS per worksheet.\n",
            "  warn(\n",
            "/usr/local/lib/python3.10/dist-packages/xlsxwriter/worksheet.py:1261: UserWarning: Ignoring URL 'https://www.epid.gov.lk/web/images/pdf/corona_vaccination/covid_vaccination_2022-03_22.pdf' since it exceeds Excel's limit of 65,530 URLS per worksheet.\n",
            "  warn(\n",
            "/usr/local/lib/python3.10/dist-packages/xlsxwriter/worksheet.py:1261: UserWarning: Ignoring URL 'https://laatjevaccineren.sr/' since it exceeds Excel's limit of 65,530 URLS per worksheet.\n",
            "  warn(\n",
            "/usr/local/lib/python3.10/dist-packages/xlsxwriter/worksheet.py:1261: UserWarning: Ignoring URL 'https://fohm.se/smittskydd-beredskap/utbrott/aktuella-utbrott/covid-19/statistik-och-analyser/statistik-over-registrerade-vaccinationer-covid-19/' since it exceeds Excel's limit of 65,530 URLS per worksheet.\n",
            "  warn(\n",
            "/usr/local/lib/python3.10/dist-packages/xlsxwriter/worksheet.py:1261: UserWarning: Ignoring URL 'https://opendata.swiss/en/dataset/covid-19-schweiz?detGeo=CH' since it exceeds Excel's limit of 65,530 URLS per worksheet.\n",
            "  warn(\n",
            "/usr/local/lib/python3.10/dist-packages/xlsxwriter/worksheet.py:1261: UserWarning: Ignoring URL 'https://www.cdc.gov.tw/Category/Page/9jFXNbCe-sFK9EImRRi2Og' since it exceeds Excel's limit of 65,530 URLS per worksheet.\n",
            "  warn(\n",
            "/usr/local/lib/python3.10/dist-packages/xlsxwriter/worksheet.py:1261: UserWarning: Ignoring URL 'https://ddc.moph.go.th/covid19-dashboard/' since it exceeds Excel's limit of 65,530 URLS per worksheet.\n",
            "  warn(\n",
            "/usr/local/lib/python3.10/dist-packages/xlsxwriter/worksheet.py:1261: UserWarning: Ignoring URL 'https://services3.arcgis.com/x3I4DqUw3b3MfTwQ/arcgis/rest/services/service_7a519502598f492a9094fd0ad503cf80/FeatureServer/0/query' since it exceeds Excel's limit of 65,530 URLS per worksheet.\n",
            "  warn(\n",
            "/usr/local/lib/python3.10/dist-packages/xlsxwriter/worksheet.py:1261: UserWarning: Ignoring URL 'https://web.facebook.com/santetunisie.rns.tn/posts/339797681524034?__cft__[0]=AZUiZe_DZCgQaUfW53dSTtXxKD5Vmq3M4OkNzKUMnMjzyKYqwPgH6EV-do3PCuT4TqokRZFYjLLshZ87APo1I0dbZHgTHn-95N8CB7Crpo5q1AShf3f9AQYWATKZCptNluocUhFJ8tKk3Z4cIg3qRVhQ&__tn__=%2CO%2CP-R' since it exceeds Excel's limit of 65,530 URLS per worksheet.\n",
            "  warn(\n",
            "/usr/local/lib/python3.10/dist-packages/xlsxwriter/worksheet.py:1261: UserWarning: Ignoring URL 'https://covid19asi.saglik.gov.tr/' since it exceeds Excel's limit of 65,530 URLS per worksheet.\n",
            "  warn(\n",
            "/usr/local/lib/python3.10/dist-packages/xlsxwriter/worksheet.py:1261: UserWarning: Ignoring URL 'https://health-security.rnbo.gov.ua' since it exceeds Excel's limit of 65,530 URLS per worksheet.\n",
            "  warn(\n",
            "/usr/local/lib/python3.10/dist-packages/xlsxwriter/worksheet.py:1261: UserWarning: Ignoring URL 'https://fcsc.gov.ae/en-us/Pages/Covid19/UAE-Covid-19-Updates.aspx' since it exceeds Excel's limit of 65,530 URLS per worksheet.\n",
            "  warn(\n",
            "/usr/local/lib/python3.10/dist-packages/xlsxwriter/worksheet.py:1261: UserWarning: Ignoring URL 'https://data.cdc.gov/Vaccinations/COVID-19-Vaccination-Trends-in-the-United-States-N/rh2h-3yt2' since it exceeds Excel's limit of 65,530 URLS per worksheet.\n",
            "  warn(\n",
            "/usr/local/lib/python3.10/dist-packages/xlsxwriter/worksheet.py:1261: UserWarning: Ignoring URL 'https://monitor.uruguaysevacuna.gub.uy/' since it exceeds Excel's limit of 65,530 URLS per worksheet.\n",
            "  warn(\n",
            "/usr/local/lib/python3.10/dist-packages/xlsxwriter/worksheet.py:1261: UserWarning: Ignoring URL 'https://covid19.gov.vn/ngay-23-3-so-mac-moi-covid-19-giam-con-127883-ca-tuyen-quang-bo-sung-gan-13000-f0-171220323181603013.htm' since it exceeds Excel's limit of 65,530 URLS per worksheet.\n",
            "  warn(\n",
            "/usr/local/lib/python3.10/dist-packages/xlsxwriter/worksheet.py:1261: UserWarning: Ignoring URL 'https://rtc-planning.maps.arcgis.com/apps/dashboards/3b3a01c1d8444932ba075fb44b119b63' since it exceeds Excel's limit of 65,530 URLS per worksheet.\n",
            "  warn(\n",
            "/usr/local/lib/python3.10/dist-packages/xlsxwriter/worksheet.py:1261: UserWarning: Ignoring URL 'https://www.arcgis.com/home/webmap/viewer.html?url=https://services9.arcgis.com/DnERH4rcjw7NU6lv/ArcGIS/rest/services/Vaccine_Distribution_Program/FeatureServer&source=sd' since it exceeds Excel's limit of 65,530 URLS per worksheet.\n",
            "  warn(\n"
          ]
        },
        {
          "output_type": "stream",
          "name": "stdout",
          "text": [
            "Los DataFrames se han guardado en resultadosReto.xlsx\n"
          ]
        }
      ]
    }
  ]
}